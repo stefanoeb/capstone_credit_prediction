{
 "cells": [
  {
   "cell_type": "markdown",
   "metadata": {},
   "source": [
    "# Projeto Capstone: Previsão de inadimplência no crediário\n",
    "\n",
    "O crediário hoje sofre com um índice alto de inadimplência, o que leva a 30% dos brasileiros a estarem negativos em algum órgão de proteção ao crédito.\n",
    "Porém, apenas a informação de negativação é suficiente para conter a inadimplência? Não é que o parece.\n",
    "\n",
    "## Objetivo\n",
    "\n",
    "Construir um modelo preditivo de crédito que vai atribuir uma proposta (possível venda) a um risco utilizando informações:\n",
    "- De cadastro do cliente\n",
    "- Histórico de compras\n",
    "- Dados de órgãos de proteção ao crédito"
   ]
  },
  {
   "cell_type": "markdown",
   "metadata": {},
   "source": [
    "---\n",
    "## Parte 01: Divisão e extração do dataset"
   ]
  },
  {
   "cell_type": "markdown",
   "metadata": {},
   "source": [
    "### Extrair label\n",
    "MDA é a nossa label: maior dias em atraso, ou seja, qual foi o máximo de dias que aquela venda atrasou. Valores negativos significam que a venda foi paga adiantada (antes do vencimento)"
   ]
  },
  {
   "cell_type": "code",
   "execution_count": 9,
   "metadata": {
    "collapsed": false,
    "scrolled": true
   },
   "outputs": [
    {
     "data": {
      "text/html": [
       "<div>\n",
       "<table border=\"1\" class=\"dataframe\">\n",
       "  <thead>\n",
       "    <tr style=\"text-align: right;\">\n",
       "      <th></th>\n",
       "      <th>faturado</th>\n",
       "      <th>qtd_parcelas</th>\n",
       "      <th>valor_financiado</th>\n",
       "      <th>valor_parcela</th>\n",
       "      <th>qtd_contratos_quitados_cliente</th>\n",
       "      <th>sexo</th>\n",
       "      <th>idade</th>\n",
       "      <th>estado_civil</th>\n",
       "      <th>anos_empresa</th>\n",
       "      <th>mda_cliente</th>\n",
       "    </tr>\n",
       "  </thead>\n",
       "  <tbody>\n",
       "    <tr>\n",
       "      <th>count</th>\n",
       "      <td>2500.000000</td>\n",
       "      <td>2500.000000</td>\n",
       "      <td>2500.000000</td>\n",
       "      <td>2500.000000</td>\n",
       "      <td>2500.000000</td>\n",
       "      <td>2500.000000</td>\n",
       "      <td>2500.000000</td>\n",
       "      <td>2500.000000</td>\n",
       "      <td>2500.000000</td>\n",
       "      <td>2500.000000</td>\n",
       "    </tr>\n",
       "    <tr>\n",
       "      <th>mean</th>\n",
       "      <td>194.788948</td>\n",
       "      <td>3.895600</td>\n",
       "      <td>200.095140</td>\n",
       "      <td>49.871260</td>\n",
       "      <td>6.533200</td>\n",
       "      <td>1.619200</td>\n",
       "      <td>48.671600</td>\n",
       "      <td>1.800400</td>\n",
       "      <td>13.499200</td>\n",
       "      <td>123.278400</td>\n",
       "    </tr>\n",
       "    <tr>\n",
       "      <th>std</th>\n",
       "      <td>153.523226</td>\n",
       "      <td>1.683637</td>\n",
       "      <td>174.094267</td>\n",
       "      <td>32.114074</td>\n",
       "      <td>10.489428</td>\n",
       "      <td>0.485681</td>\n",
       "      <td>15.448003</td>\n",
       "      <td>1.010826</td>\n",
       "      <td>23.704235</td>\n",
       "      <td>230.936027</td>\n",
       "    </tr>\n",
       "    <tr>\n",
       "      <th>min</th>\n",
       "      <td>4.400000</td>\n",
       "      <td>1.000000</td>\n",
       "      <td>4.400000</td>\n",
       "      <td>4.400000</td>\n",
       "      <td>0.000000</td>\n",
       "      <td>1.000000</td>\n",
       "      <td>0.000000</td>\n",
       "      <td>0.000000</td>\n",
       "      <td>0.000000</td>\n",
       "      <td>-31.000000</td>\n",
       "    </tr>\n",
       "    <tr>\n",
       "      <th>25%</th>\n",
       "      <td>88.975000</td>\n",
       "      <td>3.000000</td>\n",
       "      <td>89.800000</td>\n",
       "      <td>28.330000</td>\n",
       "      <td>1.000000</td>\n",
       "      <td>1.000000</td>\n",
       "      <td>36.000000</td>\n",
       "      <td>1.000000</td>\n",
       "      <td>6.000000</td>\n",
       "      <td>15.000000</td>\n",
       "    </tr>\n",
       "    <tr>\n",
       "      <th>50%</th>\n",
       "      <td>158.470000</td>\n",
       "      <td>4.000000</td>\n",
       "      <td>159.800000</td>\n",
       "      <td>41.685000</td>\n",
       "      <td>3.000000</td>\n",
       "      <td>2.000000</td>\n",
       "      <td>49.000000</td>\n",
       "      <td>2.000000</td>\n",
       "      <td>10.000000</td>\n",
       "      <td>37.000000</td>\n",
       "    </tr>\n",
       "    <tr>\n",
       "      <th>75%</th>\n",
       "      <td>255.810000</td>\n",
       "      <td>5.000000</td>\n",
       "      <td>259.442500</td>\n",
       "      <td>59.960000</td>\n",
       "      <td>7.000000</td>\n",
       "      <td>2.000000</td>\n",
       "      <td>60.000000</td>\n",
       "      <td>2.000000</td>\n",
       "      <td>17.000000</td>\n",
       "      <td>100.000000</td>\n",
       "    </tr>\n",
       "    <tr>\n",
       "      <th>max</th>\n",
       "      <td>1250.000000</td>\n",
       "      <td>12.000000</td>\n",
       "      <td>2054.280000</td>\n",
       "      <td>336.330000</td>\n",
       "      <td>85.000000</td>\n",
       "      <td>2.000000</td>\n",
       "      <td>90.000000</td>\n",
       "      <td>6.000000</td>\n",
       "      <td>906.000000</td>\n",
       "      <td>3100.000000</td>\n",
       "    </tr>\n",
       "  </tbody>\n",
       "</table>\n",
       "</div>"
      ],
      "text/plain": [
       "          faturado  qtd_parcelas  valor_financiado  valor_parcela  \\\n",
       "count  2500.000000   2500.000000       2500.000000    2500.000000   \n",
       "mean    194.788948      3.895600        200.095140      49.871260   \n",
       "std     153.523226      1.683637        174.094267      32.114074   \n",
       "min       4.400000      1.000000          4.400000       4.400000   \n",
       "25%      88.975000      3.000000         89.800000      28.330000   \n",
       "50%     158.470000      4.000000        159.800000      41.685000   \n",
       "75%     255.810000      5.000000        259.442500      59.960000   \n",
       "max    1250.000000     12.000000       2054.280000     336.330000   \n",
       "\n",
       "       qtd_contratos_quitados_cliente         sexo        idade  estado_civil  \\\n",
       "count                     2500.000000  2500.000000  2500.000000   2500.000000   \n",
       "mean                         6.533200     1.619200    48.671600      1.800400   \n",
       "std                         10.489428     0.485681    15.448003      1.010826   \n",
       "min                          0.000000     1.000000     0.000000      0.000000   \n",
       "25%                          1.000000     1.000000    36.000000      1.000000   \n",
       "50%                          3.000000     2.000000    49.000000      2.000000   \n",
       "75%                          7.000000     2.000000    60.000000      2.000000   \n",
       "max                         85.000000     2.000000    90.000000      6.000000   \n",
       "\n",
       "       anos_empresa  mda_cliente  \n",
       "count   2500.000000  2500.000000  \n",
       "mean      13.499200   123.278400  \n",
       "std       23.704235   230.936027  \n",
       "min        0.000000   -31.000000  \n",
       "25%        6.000000    15.000000  \n",
       "50%       10.000000    37.000000  \n",
       "75%       17.000000   100.000000  \n",
       "max      906.000000  3100.000000  "
      ]
     },
     "execution_count": 9,
     "metadata": {},
     "output_type": "execute_result"
    }
   ],
   "source": [
    "import numpy as np\n",
    "import pandas as pd\n",
    "\n",
    "data = pd.read_csv('data/out.csv', sep=';')\n",
    "\n",
    "# Substituir todos os NaN no dataset por zeros\n",
    "features = data.fillna(method='ffill')\n",
    "features = data.fillna(value='0')\n",
    "\n",
    "labels = features[['mda']]\n",
    "features = features.drop([features.columns[0], 'mda'], axis=1)\n",
    "features.describe()"
   ]
  },
  {
   "cell_type": "markdown",
   "metadata": {},
   "source": [
    "### Train/test split\n",
    "Dividir o dataset em dados de treino e teste, 'embaralhando' para evitar qualquer bias do dataset."
   ]
  },
  {
   "cell_type": "code",
   "execution_count": 14,
   "metadata": {
    "collapsed": false
   },
   "outputs": [],
   "source": [
    "from sklearn.model_selection import train_test_split\n",
    "\n",
    "features_train, features_test, labels_train, labels_test = train_test_split(features,\n",
    "                                                                            labels,\n",
    "                                                                            test_size=0.2,\n",
    "                                                                            random_state=0)"
   ]
  },
  {
   "cell_type": "markdown",
   "metadata": {},
   "source": [
    "## Parte 02: Análise exploratória dos dados\n",
    "\n",
    "Checar a relevância dos dados, bem como se algum pre-processamento pode ajudar na precisão ou generalização do modelo.\n",
    "\n",
    "### Clustering de ocupações\n",
    "\n",
    "Existem várias ocupação possíveis, tornando o modelo complexo demais em observar todas elas. A melhor forma é formar poucos clusters de dados para que o modelo fique mais simples."
   ]
  },
  {
   "cell_type": "code",
   "execution_count": 17,
   "metadata": {
    "collapsed": false
   },
   "outputs": [],
   "source": [
    "import seaborn as sns\n",
    "\n",
    "\n",
    "# Load one of the data sets that come with seaborn\n",
    "tips = sns.load_dataset(\"tips\")\n",
    "\n",
    "sns.lmplot(\"total_bill\", \"tip\", tips, col=\"smoker\");"
   ]
  },
  {
   "cell_type": "markdown",
   "metadata": {},
   "source": [
    "## Parte xx: Treinamento do modelo:\n",
    "WIP"
   ]
  },
  {
   "cell_type": "code",
   "execution_count": 7,
   "metadata": {
    "collapsed": false
   },
   "outputs": [
    {
     "name": "stdout",
     "output_type": "stream",
     "text": [
      "0.954085101973\n",
      "0.606102077016\n"
     ]
    },
    {
     "name": "stderr",
     "output_type": "stream",
     "text": [
      "/home/stefano/anaconda2/lib/python2.7/site-packages/ipykernel/__main__.py:4: DataConversionWarning: A column-vector y was passed when a 1d array was expected. Please change the shape of y to (n_samples,), for example using ravel().\n"
     ]
    }
   ],
   "source": [
    "from sklearn.ensemble import RandomForestRegressor\n",
    "\n",
    "model = RandomForestRegressor(random_state=0)\n",
    "model.fit(features_train, labels_train)\n",
    "print model.score(features_train, labels_train)\n",
    "print model.score(features_test, labels_test)"
   ]
  },
  {
   "cell_type": "code",
   "execution_count": null,
   "metadata": {
    "collapsed": true
   },
   "outputs": [],
   "source": []
  }
 ],
 "metadata": {
  "anaconda-cloud": {},
  "kernelspec": {
   "display_name": "Python [default]",
   "language": "python",
   "name": "python2"
  },
  "language_info": {
   "codemirror_mode": {
    "name": "ipython",
    "version": 2
   },
   "file_extension": ".py",
   "mimetype": "text/x-python",
   "name": "python",
   "nbconvert_exporter": "python",
   "pygments_lexer": "ipython2",
   "version": "2.7.12"
  }
 },
 "nbformat": 4,
 "nbformat_minor": 1
}
