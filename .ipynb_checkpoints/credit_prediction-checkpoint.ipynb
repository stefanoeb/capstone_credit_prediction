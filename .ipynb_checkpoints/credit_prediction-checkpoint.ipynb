{
 "cells": [
  {
   "cell_type": "markdown",
   "metadata": {},
   "source": [
    "# Projeto Capstone: Previsão de inadimplência no crediário\n",
    "\n",
    "O crediário hoje sofre com um índice alto de inadimplência, o que leva a 30% dos brasileiros a estarem negativos em algum órgão de proteção ao crédito.\n",
    "Porém, apenas a informação de negativação é suficiente para conter a inadimplência? Não é que o parece.\n",
    "\n",
    "## Objetivo\n",
    "\n",
    "Construir um modelo preditivo de crédito que vai atribuir uma proposta (possível venda) a um risco utilizando informações:\n",
    "- De cadastro do cliente\n",
    "- Histórico de compras\n",
    "- Dados de órgãos de proteção ao crédito"
   ]
  },
  {
   "cell_type": "markdown",
   "metadata": {},
   "source": [
    "---\n",
    "## Parte 01: Exploração dos dados"
   ]
  },
  {
   "cell_type": "markdown",
   "metadata": {},
   "source": [
    "### Dataset\n",
    "Para este projeto, o dataset utilizado será de 2500 vendas ocorridas entre 2011 e 2015 no [sistema de crediário da Tidas Soluções](http://www.tidas.com.br/), ocorridas em todo o Brasil e para diferentes pessoas físicas anônimas.\n",
    "\n",
    "Dentre as informações contidas no dataset, podemos classificá-las em informações pessoais do cliente:\n",
    "- sexo (1: Masculino, 2: Feminino)\n",
    "- idade\n",
    "- estado_civil\n",
    "- anos_empresa: Quantidade de tempo em anos que trabalha na mesma empresa\n",
    "- tel_fixo: Se possui telefone fixo ou não\n",
    "- dependentes: Quantidade de dependentes\n",
    "- veiculo (1: Carro, 2: Moto)\n",
    "- veiculo_financiado: Se possui algum veículo financiado\n",
    "- moradia (1: Aluguel, 2: Propria, 3: Mora com os pais)\n",
    "- anos_residencia: Quantidade de tempo em anos que mora na mesma residência\n",
    "- ocupacao\n",
    "- telefone_comercial: Se possui telefone comercial ou não\n",
    "- salario\n",
    "- mda_cliente: O maior número de dias que aquele cliente já deixou atrasar uma parcela no passado\n",
    "\n",
    "\n",
    "E também dados sobre a venda em si:\n",
    "- faturado: Valor total da venda\n",
    "- qtd_parcelas: Quantidade de parcelas da venda, fora entrada\n",
    "- valor_financiado: Valor total da venda fora entrada\n",
    "- valor_parcela: Valor da parcela da venda\n",
    "- valor_entrada\n",
    "- mda: Maior dia em atraso que a venda já ficou (é o nosso label)\n",
    "- qtd_contratos_quitados_cliente: Quantidade de vendas já quitadas do cliente no passado\n",
    "- qtd_consultas_ate15dias: Quantidade de consultas em órgãos de proteção ao crédito que o cliente teve nos 15 dias anteriores à compra\n",
    "- qtd_consultas_ate60dias\n",
    "- qtd_registros: Quantidade de registros em órgãos de proteção ao crédito que o cliente possuia no momento da venda\n",
    "- qtd_contratos_abertos_cliente: Quantidade de vendas em aberto que o cliente tinha na rede Tidas Crediário\n",
    "\n",
    "\n",
    "### Variável alvo (label)\n",
    "O objetivo deste projeto será tentar prever o campo **mda** do dataset, que significa o máximo de dias que qualquer parcela daquele contrato ficou em atraso, desta forma poderemos saber se vale a pena vender para o cliente ou não: Se tivermos certeza que o cliente atrasará o pagamento em 5 dias, concerteza venderemos para este cliente. Porém, se for mais de 120 dias provavelmente não valerá a pena vender para o cliente, visto que ainda teremos custo de cobrá-lo durante todo esse tempo.\n",
    "\n",
    "Veremos em seguida como o nosso label está distribuido no dataset:\n"
   ]
  },
  {
   "cell_type": "code",
   "execution_count": 1,
   "metadata": {},
   "outputs": [
    {
     "data": {
      "text/plain": [
       "<matplotlib.axes._subplots.AxesSubplot at 0x1128f8a90>"
      ]
     },
     "execution_count": 1,
     "metadata": {},
     "output_type": "execute_result"
    },
    {
     "data": {
      "image/png": "[encoded data removed]",
      "text/plain": [
       "<matplotlib.figure.Figure at 0x10d5f5150>"
      ]
     },
     "metadata": {},
     "output_type": "display_data"
    }
   ],
   "source": [
    "import numpy as np\n",
    "import pandas as pd\n",
    "import seaborn as sns\n",
    "\n",
    "%matplotlib inline\n",
    "data = pd.read_csv('data/out.csv', sep=';')\n",
    "\n",
    "sns.distplot(data['mda'])"
   ]
  },
  {
   "cell_type": "markdown",
   "metadata": {},
   "source": [
    "Observando a figura acima, percebe-se que embora existam labels acima de 200, não parecem ter nenhuma relevância estatística. Caso seja confirmado essa hipótese, considerarei esses casos como **ruído** e os desconsiderarei."
   ]
  },
  {
   "cell_type": "code",
   "execution_count": 2,
   "metadata": {},
   "outputs": [
    {
     "data": {
      "text/plain": [
       "6.4"
      ]
     },
     "execution_count": 2,
     "metadata": {},
     "output_type": "execute_result"
    }
   ],
   "source": [
    "from __future__ import division\n",
    "# Calcula o percentual dos que possuem mda acima de 200\n",
    "len(data.query('mda>200')) * 100 / len(data)"
   ]
  },
  {
   "cell_type": "markdown",
   "metadata": {},
   "source": [
    "Se removermos estes pontos, estaremos reduzindo nossa label a 1/5 do tamanho original enquanto mantemos 93.6% dos dados. \n",
    "\n",
    "\n"
   ]
  },
  {
   "cell_type": "code",
   "execution_count": 16,
   "metadata": {
    "collapsed": true
   },
   "outputs": [],
   "source": [
    "features = data.query('mda<200')"
   ]
  },
  {
   "cell_type": "markdown",
   "metadata": {},
   "source": [
    "### Clustering de ocupações\n",
    "\n",
    "Existem cerca de 500 possíveis ocupações, aumentando o custo computacional do nosso modelo.\n",
    "Através de técnicas de *Unsupervised Learning* podemos *cllusterizar* essas ocupações para encontrar os grupos de profissões mais devedoras.\n",
    "\n",
    "Entretando, como estamos tratando de uma variável categórica, algoritmos convencionais como **K-means** ou **Gaussian Mixture** não serão eficientes pois não temos uma noção de distância entre nossas ocupações.\n",
    "\n",
    "Para esse problema, [Huang publicou um artigo sobre o K-Modes](http://www.cs.ust.hk/~qyang/Teaching/537/Papers/huang98extensions.pdf), uma extensão do K-Means que utiliza a moda ao invés da média, agrupando os values pela frequência que aparecem ao invés da média dos valores."
   ]
  },
  {
   "cell_type": "code",
   "execution_count": 21,
   "metadata": {},
   "outputs": [
    {
     "name": "stdout",
     "output_type": "stream",
     "text": [
      "0\n"
     ]
    },
    {
     "ename": "ValueError",
     "evalue": "Found array with 0 sample(s) (shape=(0, 2)) while a minimum of 1 is required.",
     "output_type": "error",
     "traceback": [
      "\u001b[0;31m---------------------------------------------------------------------------\u001b[0m",
      "\u001b[0;31mValueError\u001b[0m                                Traceback (most recent call last)",
      "\u001b[0;32m<ipython-input-21-f180cc979400>\u001b[0m in \u001b[0;36m<module>\u001b[0;34m()\u001b[0m\n\u001b[1;32m      6\u001b[0m \u001b[0;32mprint\u001b[0m \u001b[0mlen\u001b[0m\u001b[0;34m(\u001b[0m\u001b[0mdata\u001b[0m\u001b[0;34m)\u001b[0m\u001b[0;34m\u001b[0m\u001b[0m\n\u001b[1;32m      7\u001b[0m \u001b[0mkm\u001b[0m \u001b[0;34m=\u001b[0m \u001b[0mkmodes\u001b[0m\u001b[0;34m.\u001b[0m\u001b[0mKModes\u001b[0m\u001b[0;34m(\u001b[0m\u001b[0mn_clusters\u001b[0m\u001b[0;34m=\u001b[0m\u001b[0;36m4\u001b[0m\u001b[0;34m,\u001b[0m \u001b[0minit\u001b[0m\u001b[0;34m=\u001b[0m\u001b[0;34m'Huang'\u001b[0m\u001b[0;34m,\u001b[0m \u001b[0mn_init\u001b[0m\u001b[0;34m=\u001b[0m\u001b[0;36m5\u001b[0m\u001b[0;34m,\u001b[0m \u001b[0mverbose\u001b[0m\u001b[0;34m=\u001b[0m\u001b[0;36m1\u001b[0m\u001b[0;34m)\u001b[0m\u001b[0;34m\u001b[0m\u001b[0m\n\u001b[0;32m----> 8\u001b[0;31m \u001b[0mclusters\u001b[0m \u001b[0;34m=\u001b[0m \u001b[0mkm\u001b[0m\u001b[0;34m.\u001b[0m\u001b[0mfit_predict\u001b[0m\u001b[0;34m(\u001b[0m\u001b[0mfeatures\u001b[0m\u001b[0;34m[\u001b[0m\u001b[0;34m[\u001b[0m\u001b[0;34m'ocupacao'\u001b[0m\u001b[0;34m,\u001b[0m \u001b[0;34m'mda'\u001b[0m\u001b[0;34m]\u001b[0m\u001b[0;34m]\u001b[0m\u001b[0;34m)\u001b[0m\u001b[0;34m\u001b[0m\u001b[0m\n\u001b[0m",
      "\u001b[0;32m/Users/stefanoeb/anaconda/lib/python2.7/site-packages/kmodes/kmodes.pyc\u001b[0m in \u001b[0;36mfit_predict\u001b[0;34m(self, X, y, **kwargs)\u001b[0m\n\u001b[1;32m    372\u001b[0m         \u001b[0mpredict\u001b[0m\u001b[0;34m(\u001b[0m\u001b[0mX\u001b[0m\u001b[0;34m)\u001b[0m\u001b[0;34m.\u001b[0m\u001b[0;34m\u001b[0m\u001b[0m\n\u001b[1;32m    373\u001b[0m         \"\"\"\n\u001b[0;32m--> 374\u001b[0;31m         \u001b[0;32mreturn\u001b[0m \u001b[0mself\u001b[0m\u001b[0;34m.\u001b[0m\u001b[0mfit\u001b[0m\u001b[0;34m(\u001b[0m\u001b[0mX\u001b[0m\u001b[0;34m,\u001b[0m \u001b[0;34m**\u001b[0m\u001b[0mkwargs\u001b[0m\u001b[0;34m)\u001b[0m\u001b[0;34m.\u001b[0m\u001b[0mlabels_\u001b[0m\u001b[0;34m\u001b[0m\u001b[0m\n\u001b[0m\u001b[1;32m    375\u001b[0m \u001b[0;34m\u001b[0m\u001b[0m\n\u001b[1;32m    376\u001b[0m     \u001b[0;32mdef\u001b[0m \u001b[0mpredict\u001b[0m\u001b[0;34m(\u001b[0m\u001b[0mself\u001b[0m\u001b[0;34m,\u001b[0m \u001b[0mX\u001b[0m\u001b[0;34m,\u001b[0m \u001b[0;34m**\u001b[0m\u001b[0mkwargs\u001b[0m\u001b[0;34m)\u001b[0m\u001b[0;34m:\u001b[0m\u001b[0;34m\u001b[0m\u001b[0m\n",
      "\u001b[0;32m/Users/stefanoeb/anaconda/lib/python2.7/site-packages/kmodes/kmodes.pyc\u001b[0m in \u001b[0;36mfit\u001b[0;34m(self, X, y, **kwargs)\u001b[0m\n\u001b[1;32m    363\u001b[0m                                                \u001b[0mself\u001b[0m\u001b[0;34m.\u001b[0m\u001b[0minit\u001b[0m\u001b[0;34m,\u001b[0m\u001b[0;34m\u001b[0m\u001b[0m\n\u001b[1;32m    364\u001b[0m                                                \u001b[0mself\u001b[0m\u001b[0;34m.\u001b[0m\u001b[0mn_init\u001b[0m\u001b[0;34m,\u001b[0m\u001b[0;34m\u001b[0m\u001b[0m\n\u001b[0;32m--> 365\u001b[0;31m                                                self.verbose)\n\u001b[0m\u001b[1;32m    366\u001b[0m         \u001b[0;32mreturn\u001b[0m \u001b[0mself\u001b[0m\u001b[0;34m\u001b[0m\u001b[0m\n\u001b[1;32m    367\u001b[0m \u001b[0;34m\u001b[0m\u001b[0m\n",
      "\u001b[0;32m/Users/stefanoeb/anaconda/lib/python2.7/site-packages/kmodes/kmodes.pyc\u001b[0m in \u001b[0;36mk_modes\u001b[0;34m(X, n_clusters, max_iter, dissim, init, n_init, verbose)\u001b[0m\n\u001b[1;32m    170\u001b[0m         \u001b[0;32mraise\u001b[0m \u001b[0mTypeError\u001b[0m\u001b[0;34m(\u001b[0m\u001b[0;34m\"k-modes does not support sparse data.\"\u001b[0m\u001b[0;34m)\u001b[0m\u001b[0;34m\u001b[0m\u001b[0m\n\u001b[1;32m    171\u001b[0m \u001b[0;34m\u001b[0m\u001b[0m\n\u001b[0;32m--> 172\u001b[0;31m     \u001b[0mX\u001b[0m \u001b[0;34m=\u001b[0m \u001b[0mcheck_array\u001b[0m\u001b[0;34m(\u001b[0m\u001b[0mX\u001b[0m\u001b[0;34m,\u001b[0m \u001b[0mdtype\u001b[0m\u001b[0;34m=\u001b[0m\u001b[0mNone\u001b[0m\u001b[0;34m)\u001b[0m\u001b[0;34m\u001b[0m\u001b[0m\n\u001b[0m\u001b[1;32m    173\u001b[0m \u001b[0;34m\u001b[0m\u001b[0m\n\u001b[1;32m    174\u001b[0m     \u001b[0;31m# Convert the categorical values in X to integers for speed.\u001b[0m\u001b[0;34m\u001b[0m\u001b[0;34m\u001b[0m\u001b[0m\n",
      "\u001b[0;32m/Users/stefanoeb/anaconda/lib/python2.7/site-packages/sklearn/utils/validation.pyc\u001b[0m in \u001b[0;36mcheck_array\u001b[0;34m(array, accept_sparse, dtype, order, copy, force_all_finite, ensure_2d, allow_nd, ensure_min_samples, ensure_min_features, warn_on_dtype, estimator)\u001b[0m\n\u001b[1;32m    414\u001b[0m                              \u001b[0;34m\" minimum of %d is required%s.\"\u001b[0m\u001b[0;34m\u001b[0m\u001b[0m\n\u001b[1;32m    415\u001b[0m                              % (n_samples, shape_repr, ensure_min_samples,\n\u001b[0;32m--> 416\u001b[0;31m                                 context))\n\u001b[0m\u001b[1;32m    417\u001b[0m \u001b[0;34m\u001b[0m\u001b[0m\n\u001b[1;32m    418\u001b[0m     \u001b[0;32mif\u001b[0m \u001b[0mensure_min_features\u001b[0m \u001b[0;34m>\u001b[0m \u001b[0;36m0\u001b[0m \u001b[0;32mand\u001b[0m \u001b[0marray\u001b[0m\u001b[0;34m.\u001b[0m\u001b[0mndim\u001b[0m \u001b[0;34m==\u001b[0m \u001b[0;36m2\u001b[0m\u001b[0;34m:\u001b[0m\u001b[0;34m\u001b[0m\u001b[0m\n",
      "\u001b[0;31mValueError\u001b[0m: Found array with 0 sample(s) (shape=(0, 2)) while a minimum of 1 is required."
     ]
    }
   ],
   "source": [
    "from kmodes import kmodes\n",
    "\n",
    "# Substituir todos os NaN no dataset por zeros\n",
    "features = features.fillna(method='ffill')\n",
    "features = features.fillna(value='0')\n",
    "print len(data)\n",
    "km = kmodes.KModes(n_clusters=4, init='Huang', n_init=5, verbose=1)\n",
    "clusters = km.fit_predict(features[['ocupacao', 'mda']])\n"
   ]
  },
  {
   "cell_type": "markdown",
   "metadata": {},
   "source": [
    "---\n",
    "## Parte 02: Divisão e extração do dataset"
   ]
  },
  {
   "cell_type": "markdown",
   "metadata": {},
   "source": [
    "### Extrair label\n",
    "MDA é a nossa label: maior dias em atraso, ou seja, qual foi o máximo de dias que aquela venda atrasou. Valores negativos significam que a venda foi paga adiantada (antes do vencimento)"
   ]
  },
  {
   "cell_type": "code",
   "execution_count": 10,
   "metadata": {
    "collapsed": true,
    "scrolled": true
   },
   "outputs": [],
   "source": [
    "labels = features[['mda']]\n",
    "features = features.drop([features.columns[0], 'mda'], axis=1)"
   ]
  },
  {
   "cell_type": "markdown",
   "metadata": {},
   "source": [
    "### Train/test split\n",
    "Dividir o dataset em dados de treino e teste, 'embaralhando' para evitar qualquer bias do dataset."
   ]
  },
  {
   "cell_type": "code",
   "execution_count": 11,
   "metadata": {
    "collapsed": true
   },
   "outputs": [],
   "source": [
    "from sklearn.model_selection import train_test_split\n",
    "\n",
    "features_train, features_test, labels_train, labels_test = train_test_split(features,\n",
    "                                                                            labels,\n",
    "                                                                            test_size=0.2,\n",
    "                                                                            random_state=0)"
   ]
  },
  {
   "cell_type": "markdown",
   "metadata": {},
   "source": [
    "## Parte 04: Treinamento do modelo:\n",
    "\n",
    "### Método para scoring\n",
    "O meio utilizado para determinar a asseritividade do modelo é o **R^2** ou **coeficiente de determinação**.\n",
    "Na estatística, ele serve para mostrar a proporção de variância da variável observada (ou alvo) em relação às variáveis independentes (features):\n",
    "\n",
    "<Fórmula legal>\n",
    "\n",
    "\n"
   ]
  },
  {
   "cell_type": "code",
   "execution_count": null,
   "metadata": {
    "collapsed": true
   },
   "outputs": [],
   "source": [
    "from sklearn.ensemble import RandomForestRegressor\n",
    "\n",
    "model = RandomForestRegressor(random_state=0, verbose=1)\n",
    "model.fit(features_train, labels_train)\n",
    "print model.score(features_train, labels_train)\n",
    "print model.score(features_test, labels_test)"
   ]
  },
  {
   "cell_type": "code",
   "execution_count": null,
   "metadata": {
    "collapsed": true
   },
   "outputs": [],
   "source": []
  }
 ],
 "metadata": {
  "anaconda-cloud": {},
  "kernelspec": {
   "display_name": "Python 2",
   "language": "python",
   "name": "python2"
  },
  "language_info": {
   "codemirror_mode": {
    "name": "ipython",
    "version": 2
   },
   "file_extension": ".py",
   "mimetype": "text/x-python",
   "name": "python",
   "nbconvert_exporter": "python",
   "pygments_lexer": "ipython2",
   "version": "2.7.13"
  }
 },
 "nbformat": 4,
 "nbformat_minor": 1
}
